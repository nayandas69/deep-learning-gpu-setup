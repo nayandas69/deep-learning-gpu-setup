{
 "cells": [
  {
   "cell_type": "markdown",
   "id": "4feb3c84",
   "metadata": {},
   "source": [
    "# Environment Setup Instructions\n",
    "\n",
    "This notebook is part of a GPU-accelerated deep learning setup project. You can use the provided scripts to automatically configure your environment depending on your operating system. For full instructions, see the included [README.md](README.md).\n",
    "\n",
    "## Linux Users: `setup_dl_env.sh`\n",
    "\n",
    "Run the following commands in your terminal:\n",
    "\n",
    "```bash\n",
    "chmod +x setup_dl_env.sh\n",
    "./setup_dl_env.sh\n",
    "```\n",
    "\n",
    "This will:\n",
    "\n",
    "* Create the Conda environment from `dl_env.yml`\n",
    "* Activate it\n",
    "* Generate `test_gpu.py`\n",
    "* Run the GPU test using PyTorch\n"
   ]
  },
  {
   "cell_type": "markdown",
   "metadata": {},
   "source": [
    "## Windows Users: `setup_dl_env.bat`\n",
    "\n",
    "Run the following in **Anaconda Prompt** (as Administrator):\n",
    "\n",
    "```bash\n",
    "setup_dl_env.bat\n",
    "```\n",
    "\n",
    "This will:\n",
    "\n",
    "* Create the Conda environment from `dl_env.yml`\n",
    "* Activate it\n",
    "* Generate `test_gpu.py`\n",
    "* Run the GPU test to check CUDA access\n"
   ]
  },
  {
   "cell_type": "markdown",
   "id": "adc4d05d",
   "metadata": {},
   "source": [
    "\n",
    "## Run GPU Check in This Notebook\n",
    "\n",
    "You can also run the following cell in this notebook to verify GPU support via PyTorch:\n",
    "\n",
    "```python\n",
    "import torch\n",
    "\n",
    "print(\"Total GPUs:\", torch.cuda.device_count())\n",
    "print(\n",
    "    \"GPU Name:\",\n",
    "    torch.cuda.get_device_name(0) if torch.cuda.is_available() else \"No GPU detected\",\n",
    ")\n",
    "\n",
    "device = torch.device(\"cuda\" if torch.cuda.is_available() else \"cpu\")\n",
    "print(\"Currently using device:\", device)\n",
    "```\n"
   ]
  },
  {
   "cell_type": "markdown",
   "id": "aeec0484",
   "metadata": {},
   "source": [
    "\n",
    "## Reference\n",
    "\n",
    "For complete installation steps, including:\n",
    "\n",
    "* NVIDIA drivers\n",
    "* CUDA Toolkit\n",
    "* cuDNN setup\n",
    "* PyTorch installation with `pytorch-cuda`\n",
    "\n",
    "Refer to the provided **[README.md](../README.md)**.\n",
    "\n",
    "\n",
    "- [x] You're now ready to build and run deep learning projects with full GPU acceleration!\n"
   ]
  }
 ],
 "metadata": {
  "language_info": {
   "name": "python"
  }
 },
 "nbformat": 4,
 "nbformat_minor": 5
}
